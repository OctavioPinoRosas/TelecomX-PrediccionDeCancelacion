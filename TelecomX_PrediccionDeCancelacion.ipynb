{
 "cells": [
  {
   "cell_type": "markdown",
   "id": "faa268d0",
   "metadata": {},
   "source": [
    "# Challenge TelecomX - Predicción De Cancelación\n",
    "## 🎯 Misión\n",
    "\n",
    "La nueva misión es desarrollar modelos predictivos capaces de prever qué clientes tienen mayor probabilidad de cancelar sus servicios.  \n",
    "La empresa TelecomX quiere anticiparse al problema de la cancelación, por lo que se pretende construir un pipeline robusto para esta etapa inicial de modelado.\n",
    "\n",
    "## 🧠 Objetivos del Desafío\n",
    "\n",
    "- Preparar los datos para el modelado (tratamiento, codificación, normalización).\n",
    "- Realizar análisis de correlación y selección de variables.\n",
    "- Entrenar dos o más modelos de clasificación.\n",
    "- Evaluar el rendimiento de los modelos con métricas.\n",
    "- Interpretar los resultados, incluyendo la importancia de las variables.\n",
    "- Crear una conclusión estratégica señalando los principales factores que influyen en la cancelación."
   ]
  }
 ],
 "metadata": {
  "language_info": {
   "name": "python"
  }
 },
 "nbformat": 4,
 "nbformat_minor": 5
}
